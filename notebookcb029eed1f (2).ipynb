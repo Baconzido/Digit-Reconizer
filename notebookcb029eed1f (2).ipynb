{
 "cells": [
  {
   "cell_type": "code",
   "execution_count": 1,
   "id": "17eeea17",
   "metadata": {
    "_cell_guid": "b1076dfc-b9ad-4769-8c92-a6c4dae69d19",
    "_uuid": "8f2839f25d086af736a60e9eeb907d3b93b6e0e5",
    "execution": {
     "iopub.execute_input": "2025-03-21T13:23:29.570381Z",
     "iopub.status.busy": "2025-03-21T13:23:29.569892Z",
     "iopub.status.idle": "2025-03-21T13:23:55.619143Z",
     "shell.execute_reply": "2025-03-21T13:23:55.618012Z"
    },
    "papermill": {
     "duration": 26.055664,
     "end_time": "2025-03-21T13:23:55.621059",
     "exception": false,
     "start_time": "2025-03-21T13:23:29.565395",
     "status": "completed"
    },
    "tags": []
   },
   "outputs": [],
   "source": [
    "import pandas as pd\n",
    "import numpy as np\n",
    "from sklearn.model_selection import train_test_split\n",
    "from tensorflow.keras.utils import to_categorical\n",
    "from tensorflow.keras.models import Sequential\n",
    "from tensorflow.keras.layers import Conv2D, MaxPool2D, Dropout, Flatten, Dense, BatchNormalization\n",
    "from tensorflow.keras.preprocessing.image import ImageDataGenerator\n",
    "from tensorflow.keras.callbacks import EarlyStopping, ModelCheckpoint\n",
    "\n",
    "train = pd.read_csv('/kaggle/input/digit-recognizer/train.csv')\n",
    "test = pd.read_csv('/kaggle/input/digit-recognizer/test.csv')\n",
    "\n",
    "y_train = train['label']\n",
    "X_train = train.drop('label', axis=1)\n",
    "\n",
    "X_train = X_train / 255.0\n",
    "test = test / 255.0\n",
    "\n",
    "X_train = X_train.values.reshape(-1, 28, 28, 1)\n",
    "test = test.values.reshape(-1, 28, 28, 1)\n",
    "\n",
    "y_train = to_categorical(y_train, num_classes=10)\n",
    "\n",
    "X_train, X_val, y_train, y_val = train_test_split(X_train, y_train, test_size=0.2, random_state=42)"
   ]
  },
  {
   "cell_type": "code",
   "execution_count": 2,
   "id": "6a8b7486",
   "metadata": {
    "execution": {
     "iopub.execute_input": "2025-03-21T13:23:55.627787Z",
     "iopub.status.busy": "2025-03-21T13:23:55.627353Z",
     "iopub.status.idle": "2025-03-21T13:23:55.969781Z",
     "shell.execute_reply": "2025-03-21T13:23:55.968637Z"
    },
    "papermill": {
     "duration": 0.347826,
     "end_time": "2025-03-21T13:23:55.971860",
     "exception": false,
     "start_time": "2025-03-21T13:23:55.624034",
     "status": "completed"
    },
    "tags": []
   },
   "outputs": [
    {
     "name": "stderr",
     "output_type": "stream",
     "text": [
      "/usr/local/lib/python3.10/dist-packages/keras/src/layers/convolutional/base_conv.py:107: UserWarning: Do not pass an `input_shape`/`input_dim` argument to a layer. When using Sequential models, prefer using an `Input(shape)` object as the first layer in the model instead.\n",
      "  super().__init__(activity_regularizer=activity_regularizer, **kwargs)\n"
     ]
    }
   ],
   "source": [
    "from tensorflow.keras.regularizers import l2\n",
    "from tensorflow.keras.layers import SpatialDropout2D\n",
    "\n",
    "model = Sequential()\n",
    "model.add(Conv2D(32, (3,3), padding='same', activation='relu', kernel_regularizer=l2(1e-4), input_shape=(28,28,1)))\n",
    "model.add(BatchNormalization())\n",
    "model.add(Conv2D(32, (3,3), padding='same', activation='relu', kernel_regularizer=l2(1e-4)))\n",
    "model.add(BatchNormalization())\n",
    "model.add(MaxPool2D(pool_size=(2,2)))\n",
    "model.add(SpatialDropout2D(0.25))  \n",
    "\n",
    "model.add(Conv2D(64, (3,3), padding='same', activation='relu', kernel_regularizer=l2(1e-4)))\n",
    "model.add(BatchNormalization())\n",
    "model.add(Conv2D(64, (3,3), padding='same', activation='relu', kernel_regularizer=l2(1e-4)))\n",
    "model.add(BatchNormalization())\n",
    "model.add(MaxPool2D(pool_size=(2,2)))\n",
    "model.add(SpatialDropout2D(0.25))\n",
    "\n",
    "model.add(Flatten())\n",
    "model.add(Dense(512, activation='relu', kernel_regularizer=l2(1e-4)))\n",
    "model.add(BatchNormalization())\n",
    "model.add(Dropout(0.5))\n",
    "model.add(Dense(10, activation='softmax'))\n",
    "\n",
    "# Compile the model\n",
    "model.compile(optimizer='adam', loss='categorical_crossentropy', metrics=['accuracy'])"
   ]
  },
  {
   "cell_type": "code",
   "execution_count": 3,
   "id": "12117343",
   "metadata": {
    "execution": {
     "iopub.execute_input": "2025-03-21T13:23:55.978538Z",
     "iopub.status.busy": "2025-03-21T13:23:55.978187Z",
     "iopub.status.idle": "2025-03-21T13:23:56.067117Z",
     "shell.execute_reply": "2025-03-21T13:23:56.066118Z"
    },
    "papermill": {
     "duration": 0.094533,
     "end_time": "2025-03-21T13:23:56.069127",
     "exception": false,
     "start_time": "2025-03-21T13:23:55.974594",
     "status": "completed"
    },
    "tags": []
   },
   "outputs": [],
   "source": [
    "datagen = ImageDataGenerator(\n",
    "    rotation_range=15,\n",
    "    zoom_range=0.15,\n",
    "    width_shift_range=0.15,\n",
    "    height_shift_range=0.15,\n",
    "    shear_range=0.15,  \n",
    "    fill_mode='nearest' \n",
    ")\n",
    "datagen.fit(X_train)"
   ]
  },
  {
   "cell_type": "code",
   "execution_count": 4,
   "id": "2ac34c67",
   "metadata": {
    "execution": {
     "iopub.execute_input": "2025-03-21T13:23:56.077346Z",
     "iopub.status.busy": "2025-03-21T13:23:56.077004Z",
     "iopub.status.idle": "2025-03-21T13:43:27.108379Z",
     "shell.execute_reply": "2025-03-21T13:43:27.107183Z"
    },
    "papermill": {
     "duration": 1171.036959,
     "end_time": "2025-03-21T13:43:27.110330",
     "exception": false,
     "start_time": "2025-03-21T13:23:56.073371",
     "status": "completed"
    },
    "tags": []
   },
   "outputs": [
    {
     "name": "stdout",
     "output_type": "stream",
     "text": [
      "Epoch 1/50\n"
     ]
    },
    {
     "name": "stderr",
     "output_type": "stream",
     "text": [
      "/usr/local/lib/python3.10/dist-packages/keras/src/trainers/data_adapters/py_dataset_adapter.py:122: UserWarning: Your `PyDataset` class should call `super().__init__(**kwargs)` in its constructor. `**kwargs` can include `workers`, `use_multiprocessing`, `max_queue_size`. Do not pass these arguments to `fit()`, as they will be ignored.\n",
      "  self._warn_if_super_not_called()\n"
     ]
    },
    {
     "name": "stdout",
     "output_type": "stream",
     "text": [
      "\u001b[1m391/391\u001b[0m \u001b[32m━━━━━━━━━━━━━━━━━━━━\u001b[0m\u001b[37m\u001b[0m \u001b[1m97s\u001b[0m 236ms/step - accuracy: 0.6913 - loss: 1.1814 - val_accuracy: 0.8096 - val_loss: 0.6807 - learning_rate: 0.0010\n",
      "Epoch 2/50\n"
     ]
    },
    {
     "name": "stderr",
     "output_type": "stream",
     "text": [
      "/usr/lib/python3.10/contextlib.py:153: UserWarning: Your input ran out of data; interrupting training. Make sure that your dataset or generator can generate at least `steps_per_epoch * epochs` batches. You may need to use the `.repeat()` function when building your dataset.\n",
      "  self.gen.throw(typ, value, traceback)\n"
     ]
    },
    {
     "name": "stdout",
     "output_type": "stream",
     "text": [
      "\u001b[1m391/391\u001b[0m \u001b[32m━━━━━━━━━━━━━━━━━━━━\u001b[0m\u001b[37m\u001b[0m \u001b[1m5s\u001b[0m 14ms/step - accuracy: 0.0000e+00 - loss: 0.0000e+00 - val_accuracy: 0.8096 - val_loss: 0.6807 - learning_rate: 0.0010\n",
      "Epoch 3/50\n",
      "\u001b[1m391/391\u001b[0m \u001b[32m━━━━━━━━━━━━━━━━━━━━\u001b[0m\u001b[37m\u001b[0m \u001b[1m90s\u001b[0m 231ms/step - accuracy: 0.9363 - loss: 0.3284 - val_accuracy: 0.9835 - val_loss: 0.1731 - learning_rate: 0.0010\n",
      "Epoch 4/50\n",
      "\u001b[1m391/391\u001b[0m \u001b[32m━━━━━━━━━━━━━━━━━━━━\u001b[0m\u001b[37m\u001b[0m \u001b[1m5s\u001b[0m 14ms/step - accuracy: 0.0000e+00 - loss: 0.0000e+00 - val_accuracy: 0.9835 - val_loss: 0.1731 - learning_rate: 0.0010\n",
      "Epoch 5/50\n",
      "\u001b[1m391/391\u001b[0m \u001b[32m━━━━━━━━━━━━━━━━━━━━\u001b[0m\u001b[37m\u001b[0m \u001b[1m92s\u001b[0m 234ms/step - accuracy: 0.9551 - loss: 0.2684 - val_accuracy: 0.9880 - val_loss: 0.1598 - learning_rate: 0.0010\n",
      "Epoch 6/50\n",
      "\u001b[1m391/391\u001b[0m \u001b[32m━━━━━━━━━━━━━━━━━━━━\u001b[0m\u001b[37m\u001b[0m \u001b[1m5s\u001b[0m 14ms/step - accuracy: 0.0000e+00 - loss: 0.0000e+00 - val_accuracy: 0.9880 - val_loss: 0.1598 - learning_rate: 0.0010\n",
      "Epoch 7/50\n",
      "\u001b[1m391/391\u001b[0m \u001b[32m━━━━━━━━━━━━━━━━━━━━\u001b[0m\u001b[37m\u001b[0m \u001b[1m92s\u001b[0m 235ms/step - accuracy: 0.9641 - loss: 0.2440 - val_accuracy: 0.9882 - val_loss: 0.1563 - learning_rate: 0.0010\n",
      "Epoch 8/50\n",
      "\u001b[1m391/391\u001b[0m \u001b[32m━━━━━━━━━━━━━━━━━━━━\u001b[0m\u001b[37m\u001b[0m \u001b[1m5s\u001b[0m 13ms/step - accuracy: 0.0000e+00 - loss: 0.0000e+00 - val_accuracy: 0.9882 - val_loss: 0.1563 - learning_rate: 0.0010\n",
      "Epoch 9/50\n",
      "\u001b[1m391/391\u001b[0m \u001b[32m━━━━━━━━━━━━━━━━━━━━\u001b[0m\u001b[37m\u001b[0m \u001b[1m96s\u001b[0m 244ms/step - accuracy: 0.9652 - loss: 0.2341 - val_accuracy: 0.9860 - val_loss: 0.1640 - learning_rate: 0.0010\n",
      "Epoch 10/50\n",
      "\n",
      "Epoch 10: ReduceLROnPlateau reducing learning rate to 0.0005000000237487257.\n",
      "\u001b[1m391/391\u001b[0m \u001b[32m━━━━━━━━━━━━━━━━━━━━\u001b[0m\u001b[37m\u001b[0m \u001b[1m6s\u001b[0m 14ms/step - accuracy: 0.0000e+00 - loss: 0.0000e+00 - val_accuracy: 0.9860 - val_loss: 0.1640 - learning_rate: 0.0010\n",
      "Epoch 11/50\n",
      "\u001b[1m391/391\u001b[0m \u001b[32m━━━━━━━━━━━━━━━━━━━━\u001b[0m\u001b[37m\u001b[0m \u001b[1m91s\u001b[0m 233ms/step - accuracy: 0.9711 - loss: 0.2167 - val_accuracy: 0.9907 - val_loss: 0.1439 - learning_rate: 5.0000e-04\n",
      "Epoch 12/50\n",
      "\u001b[1m391/391\u001b[0m \u001b[32m━━━━━━━━━━━━━━━━━━━━\u001b[0m\u001b[37m\u001b[0m \u001b[1m10s\u001b[0m 26ms/step - accuracy: 0.0000e+00 - loss: 0.0000e+00 - val_accuracy: 0.9907 - val_loss: 0.1439 - learning_rate: 5.0000e-04\n",
      "Epoch 13/50\n",
      "\u001b[1m391/391\u001b[0m \u001b[32m━━━━━━━━━━━━━━━━━━━━\u001b[0m\u001b[37m\u001b[0m \u001b[1m91s\u001b[0m 231ms/step - accuracy: 0.9772 - loss: 0.1896 - val_accuracy: 0.9933 - val_loss: 0.1297 - learning_rate: 5.0000e-04\n",
      "Epoch 14/50\n",
      "\u001b[1m391/391\u001b[0m \u001b[32m━━━━━━━━━━━━━━━━━━━━\u001b[0m\u001b[37m\u001b[0m \u001b[1m5s\u001b[0m 14ms/step - accuracy: 0.0000e+00 - loss: 0.0000e+00 - val_accuracy: 0.9933 - val_loss: 0.1297 - learning_rate: 5.0000e-04\n",
      "Epoch 15/50\n",
      "\u001b[1m391/391\u001b[0m \u001b[32m━━━━━━━━━━━━━━━━━━━━\u001b[0m\u001b[37m\u001b[0m \u001b[1m136s\u001b[0m 231ms/step - accuracy: 0.9782 - loss: 0.1838 - val_accuracy: 0.9920 - val_loss: 0.1298 - learning_rate: 5.0000e-04\n",
      "Epoch 16/50\n",
      "\n",
      "Epoch 16: ReduceLROnPlateau reducing learning rate to 0.0002500000118743628.\n",
      "\u001b[1m391/391\u001b[0m \u001b[32m━━━━━━━━━━━━━━━━━━━━\u001b[0m\u001b[37m\u001b[0m \u001b[1m5s\u001b[0m 14ms/step - accuracy: 0.0000e+00 - loss: 0.0000e+00 - val_accuracy: 0.9920 - val_loss: 0.1298 - learning_rate: 5.0000e-04\n",
      "Epoch 17/50\n",
      "\u001b[1m391/391\u001b[0m \u001b[32m━━━━━━━━━━━━━━━━━━━━\u001b[0m\u001b[37m\u001b[0m \u001b[1m138s\u001b[0m 235ms/step - accuracy: 0.9802 - loss: 0.1691 - val_accuracy: 0.9942 - val_loss: 0.1192 - learning_rate: 2.5000e-04\n",
      "Epoch 18/50\n",
      "\u001b[1m391/391\u001b[0m \u001b[32m━━━━━━━━━━━━━━━━━━━━\u001b[0m\u001b[37m\u001b[0m \u001b[1m6s\u001b[0m 14ms/step - accuracy: 0.0000e+00 - loss: 0.0000e+00 - val_accuracy: 0.9942 - val_loss: 0.1192 - learning_rate: 2.5000e-04\n",
      "Epoch 19/50\n",
      "\u001b[1m391/391\u001b[0m \u001b[32m━━━━━━━━━━━━━━━━━━━━\u001b[0m\u001b[37m\u001b[0m \u001b[1m91s\u001b[0m 232ms/step - accuracy: 0.9810 - loss: 0.1602 - val_accuracy: 0.9926 - val_loss: 0.1182 - learning_rate: 2.5000e-04\n",
      "Epoch 20/50\n",
      "\n",
      "Epoch 20: ReduceLROnPlateau reducing learning rate to 0.0001250000059371814.\n",
      "\u001b[1m391/391\u001b[0m \u001b[32m━━━━━━━━━━━━━━━━━━━━\u001b[0m\u001b[37m\u001b[0m \u001b[1m5s\u001b[0m 14ms/step - accuracy: 0.0000e+00 - loss: 0.0000e+00 - val_accuracy: 0.9926 - val_loss: 0.1182 - learning_rate: 2.5000e-04\n",
      "Epoch 21/50\n",
      "\u001b[1m391/391\u001b[0m \u001b[32m━━━━━━━━━━━━━━━━━━━━\u001b[0m\u001b[37m\u001b[0m \u001b[1m91s\u001b[0m 233ms/step - accuracy: 0.9837 - loss: 0.1516 - val_accuracy: 0.9939 - val_loss: 0.1106 - learning_rate: 1.2500e-04\n",
      "Epoch 22/50\n",
      "\u001b[1m391/391\u001b[0m \u001b[32m━━━━━━━━━━━━━━━━━━━━\u001b[0m\u001b[37m\u001b[0m \u001b[1m5s\u001b[0m 14ms/step - accuracy: 0.0000e+00 - loss: 0.0000e+00 - val_accuracy: 0.9939 - val_loss: 0.1106 - learning_rate: 1.2500e-04\n"
     ]
    }
   ],
   "source": [
    "from tensorflow.keras.callbacks import ReduceLROnPlateau  # *** Adicione esta linha ***\n",
    "\n",
    "checkpoint = ModelCheckpoint('best_model.keras', monitor='val_accuracy', save_best_only=True, mode='max')\n",
    "early_stop = EarlyStopping(monitor='val_accuracy', patience=5, mode='max')\n",
    "\n",
    "# *** Adicione o scheduler aqui ***\n",
    "lr_scheduler = ReduceLROnPlateau(\n",
    "    monitor='val_accuracy',\n",
    "    factor=0.5,\n",
    "    patience=3,\n",
    "    verbose=1,\n",
    "    min_lr=1e-6\n",
    ")\n",
    "\n",
    "# *** Atualize a lista de callbacks ***\n",
    "callbacks = [checkpoint, early_stop, lr_scheduler]\n",
    "batch_size = 86\n",
    "epochs = 50\n",
    "\n",
    "steps_per_epoch = (X_train.shape[0] + batch_size - 1) // batch_size  # 391 steps\n",
    "\n",
    "history = model.fit(\n",
    "    datagen.flow(X_train, y_train, batch_size=batch_size, shuffle=True),\n",
    "    epochs=epochs,\n",
    "    validation_data=(X_val, y_val),\n",
    "    steps_per_epoch=steps_per_epoch,  \n",
    "    callbacks=callbacks \n",
    ")"
   ]
  },
  {
   "cell_type": "code",
   "execution_count": 5,
   "id": "ea7cdc33",
   "metadata": {
    "execution": {
     "iopub.execute_input": "2025-03-21T13:43:27.634303Z",
     "iopub.status.busy": "2025-03-21T13:43:27.633774Z",
     "iopub.status.idle": "2025-03-21T13:43:28.089056Z",
     "shell.execute_reply": "2025-03-21T13:43:28.088005Z"
    },
    "papermill": {
     "duration": 0.719135,
     "end_time": "2025-03-21T13:43:28.091083",
     "exception": false,
     "start_time": "2025-03-21T13:43:27.371948",
     "status": "completed"
    },
    "tags": []
   },
   "outputs": [],
   "source": [
    "from tensorflow.keras.models import load_model\n",
    "model = load_model('best_model.keras') "
   ]
  },
  {
   "cell_type": "code",
   "execution_count": 6,
   "id": "f50f263e",
   "metadata": {
    "execution": {
     "iopub.execute_input": "2025-03-21T13:43:28.662153Z",
     "iopub.status.busy": "2025-03-21T13:43:28.661748Z",
     "iopub.status.idle": "2025-03-21T13:45:50.635893Z",
     "shell.execute_reply": "2025-03-21T13:45:50.634532Z"
    },
    "papermill": {
     "duration": 142.291686,
     "end_time": "2025-03-21T13:45:50.638296",
     "exception": false,
     "start_time": "2025-03-21T13:43:28.346610",
     "status": "completed"
    },
    "tags": []
   },
   "outputs": [],
   "source": [
    "tta_steps = 5\n",
    "predictions = []\n",
    "\n",
    "datagen_test = ImageDataGenerator(\n",
    "    rotation_range=15,  \n",
    "    width_shift_range=0.15,\n",
    "    height_shift_range=0.15,\n",
    "    zoom_range=0.15,\n",
    "    shear_range=0.15,\n",
    "    fill_mode='nearest'\n",
    ")\n",
    "\n",
    "for _ in range(tta_steps):\n",
    "    for batch in datagen_test.flow(test, batch_size=len(test), shuffle=False):\n",
    "        pred = model.predict(batch, verbose=0)\n",
    "        predictions.append(pred)\n",
    "        break  \n",
    "\n",
    "final_pred = np.mean(predictions, axis=0)\n",
    "predicted_labels = np.argmax(final_pred, axis=1)"
   ]
  },
  {
   "cell_type": "code",
   "execution_count": 7,
   "id": "c908c1d2",
   "metadata": {
    "execution": {
     "iopub.execute_input": "2025-03-21T13:45:51.147493Z",
     "iopub.status.busy": "2025-03-21T13:45:51.147104Z",
     "iopub.status.idle": "2025-03-21T13:45:51.181501Z",
     "shell.execute_reply": "2025-03-21T13:45:51.179845Z"
    },
    "papermill": {
     "duration": 0.286679,
     "end_time": "2025-03-21T13:45:51.183590",
     "exception": false,
     "start_time": "2025-03-21T13:45:50.896911",
     "status": "completed"
    },
    "tags": []
   },
   "outputs": [],
   "source": [
    "submission = pd.DataFrame({\"ImageId\": np.arange(1, len(predicted_labels) + 1),\n",
    "                           \"Label\": predicted_labels})\n",
    "submission.to_csv(\"submission.csv\", index=False)"
   ]
  }
 ],
 "metadata": {
  "kaggle": {
   "accelerator": "none",
   "dataSources": [
    {
     "databundleVersionId": 861823,
     "sourceId": 3004,
     "sourceType": "competition"
    }
   ],
   "dockerImageVersionId": 30839,
   "isGpuEnabled": false,
   "isInternetEnabled": false,
   "language": "python",
   "sourceType": "notebook"
  },
  "kernelspec": {
   "display_name": "Python 3",
   "language": "python",
   "name": "python3"
  },
  "language_info": {
   "codemirror_mode": {
    "name": "ipython",
    "version": 3
   },
   "file_extension": ".py",
   "mimetype": "text/x-python",
   "name": "python",
   "nbconvert_exporter": "python",
   "pygments_lexer": "ipython3",
   "version": "3.10.12"
  },
  "papermill": {
   "default_parameters": {},
   "duration": 1347.710411,
   "end_time": "2025-03-21T13:45:53.570018",
   "environment_variables": {},
   "exception": null,
   "input_path": "__notebook__.ipynb",
   "output_path": "__notebook__.ipynb",
   "parameters": {},
   "start_time": "2025-03-21T13:23:25.859607",
   "version": "2.6.0"
  }
 },
 "nbformat": 4,
 "nbformat_minor": 5
}
