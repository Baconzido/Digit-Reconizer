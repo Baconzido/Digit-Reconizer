{
 "cells": [
  {
   "cell_type": "code",
   "execution_count": 1,
   "id": "888be38b",
   "metadata": {
    "_cell_guid": "b1076dfc-b9ad-4769-8c92-a6c4dae69d19",
    "_uuid": "8f2839f25d086af736a60e9eeb907d3b93b6e0e5",
    "execution": {
     "iopub.execute_input": "2025-02-21T13:59:11.762413Z",
     "iopub.status.busy": "2025-02-21T13:59:11.762089Z",
     "iopub.status.idle": "2025-02-21T13:59:29.672005Z",
     "shell.execute_reply": "2025-02-21T13:59:29.671033Z"
    },
    "papermill": {
     "duration": 17.915134,
     "end_time": "2025-02-21T13:59:29.673799",
     "exception": false,
     "start_time": "2025-02-21T13:59:11.758665",
     "status": "completed"
    },
    "tags": []
   },
   "outputs": [],
   "source": [
    "import pandas as pd\n",
    "import numpy as np\n",
    "from sklearn.model_selection import train_test_split\n",
    "from tensorflow.keras.utils import to_categorical\n",
    "from tensorflow.keras.models import Sequential\n",
    "from tensorflow.keras.layers import Conv2D, MaxPool2D, Dropout, Flatten, Dense, BatchNormalization\n",
    "from tensorflow.keras.preprocessing.image import ImageDataGenerator\n",
    "from tensorflow.keras.callbacks import EarlyStopping, ModelCheckpoint\n",
    "\n",
    "train = pd.read_csv('/kaggle/input/digit-recognizer/train.csv')\n",
    "test = pd.read_csv('/kaggle/input/digit-recognizer/test.csv')\n",
    "\n",
    "y_train = train['label']\n",
    "X_train = train.drop('label', axis=1)\n",
    "\n",
    "X_train = X_train / 255.0\n",
    "test = test / 255.0\n",
    "\n",
    "X_train = X_train.values.reshape(-1, 28, 28, 1)\n",
    "test = test.values.reshape(-1, 28, 28, 1)\n",
    "\n",
    "y_train = to_categorical(y_train, num_classes=10)\n",
    "\n",
    "X_train, X_val, y_train, y_val = train_test_split(X_train, y_train, test_size=0.2, random_state=42)"
   ]
  },
  {
   "cell_type": "code",
   "execution_count": 2,
   "id": "2cdaff11",
   "metadata": {
    "execution": {
     "iopub.execute_input": "2025-02-21T13:59:29.678949Z",
     "iopub.status.busy": "2025-02-21T13:59:29.678701Z",
     "iopub.status.idle": "2025-02-21T13:59:31.924979Z",
     "shell.execute_reply": "2025-02-21T13:59:31.924274Z"
    },
    "papermill": {
     "duration": 2.250204,
     "end_time": "2025-02-21T13:59:31.926478",
     "exception": false,
     "start_time": "2025-02-21T13:59:29.676274",
     "status": "completed"
    },
    "tags": []
   },
   "outputs": [
    {
     "name": "stderr",
     "output_type": "stream",
     "text": [
      "/usr/local/lib/python3.10/dist-packages/keras/src/layers/convolutional/base_conv.py:107: UserWarning: Do not pass an `input_shape`/`input_dim` argument to a layer. When using Sequential models, prefer using an `Input(shape)` object as the first layer in the model instead.\n",
      "  super().__init__(activity_regularizer=activity_regularizer, **kwargs)\n"
     ]
    }
   ],
   "source": [
    "model = Sequential()\n",
    "\n",
    "model.add(Conv2D(32, (5,5), padding='Same', activation='relu', input_shape=(28,28,1)))\n",
    "model.add(BatchNormalization())\n",
    "model.add(Conv2D(32, (5,5), padding='Same', activation='relu'))\n",
    "model.add(BatchNormalization())\n",
    "model.add(MaxPool2D(pool_size=(2,2)))\n",
    "model.add(Dropout(0.25))\n",
    "\n",
    "model.add(Conv2D(64, (3,3), padding='Same', activation='relu'))\n",
    "model.add(BatchNormalization())\n",
    "model.add(Conv2D(64, (3,3), padding='Same', activation='relu'))\n",
    "model.add(BatchNormalization())\n",
    "model.add(MaxPool2D(pool_size=(2,2)))\n",
    "model.add(Dropout(0.25))\n",
    "\n",
    "model.add(Flatten())\n",
    "model.add(Dense(256, activation='relu'))\n",
    "model.add(BatchNormalization())\n",
    "model.add(Dropout(0.5))\n",
    "model.add(Dense(10, activation='softmax'))\n",
    "\n",
    "# Compile the model\n",
    "model.compile(optimizer='adam', loss='categorical_crossentropy', metrics=['accuracy'])"
   ]
  },
  {
   "cell_type": "code",
   "execution_count": 3,
   "id": "7ddb8a4b",
   "metadata": {
    "execution": {
     "iopub.execute_input": "2025-02-21T13:59:31.931650Z",
     "iopub.status.busy": "2025-02-21T13:59:31.931407Z",
     "iopub.status.idle": "2025-02-21T13:59:32.015504Z",
     "shell.execute_reply": "2025-02-21T13:59:32.014812Z"
    },
    "papermill": {
     "duration": 0.088295,
     "end_time": "2025-02-21T13:59:32.017074",
     "exception": false,
     "start_time": "2025-02-21T13:59:31.928779",
     "status": "completed"
    },
    "tags": []
   },
   "outputs": [],
   "source": [
    "datagen = ImageDataGenerator(\n",
    "    rotation_range=10,\n",
    "    zoom_range=0.1,\n",
    "    width_shift_range=0.1,\n",
    "    height_shift_range=0.1\n",
    ")\n",
    "datagen.fit(X_train)"
   ]
  },
  {
   "cell_type": "code",
   "execution_count": 4,
   "id": "40e5f7d4",
   "metadata": {
    "execution": {
     "iopub.execute_input": "2025-02-21T13:59:32.023335Z",
     "iopub.status.busy": "2025-02-21T13:59:32.023067Z",
     "iopub.status.idle": "2025-02-21T14:01:41.588726Z",
     "shell.execute_reply": "2025-02-21T14:01:41.587893Z"
    },
    "papermill": {
     "duration": 129.56961,
     "end_time": "2025-02-21T14:01:41.590137",
     "exception": false,
     "start_time": "2025-02-21T13:59:32.020527",
     "status": "completed"
    },
    "tags": []
   },
   "outputs": [
    {
     "name": "stdout",
     "output_type": "stream",
     "text": [
      "Epoch 1/50\n"
     ]
    },
    {
     "name": "stderr",
     "output_type": "stream",
     "text": [
      "/usr/local/lib/python3.10/dist-packages/keras/src/trainers/data_adapters/py_dataset_adapter.py:122: UserWarning: Your `PyDataset` class should call `super().__init__(**kwargs)` in its constructor. `**kwargs` can include `workers`, `use_multiprocessing`, `max_queue_size`. Do not pass these arguments to `fit()`, as they will be ignored.\n",
      "  self._warn_if_super_not_called()\n"
     ]
    },
    {
     "name": "stdout",
     "output_type": "stream",
     "text": [
      "\u001b[1m391/391\u001b[0m \u001b[32m━━━━━━━━━━━━━━━━━━━━\u001b[0m\u001b[37m\u001b[0m \u001b[1m25s\u001b[0m 41ms/step - accuracy: 0.7847 - loss: 0.7232 - val_accuracy: 0.2830 - val_loss: 3.0577\n",
      "Epoch 2/50\n"
     ]
    },
    {
     "name": "stderr",
     "output_type": "stream",
     "text": [
      "/usr/lib/python3.10/contextlib.py:153: UserWarning: Your input ran out of data; interrupting training. Make sure that your dataset or generator can generate at least `steps_per_epoch * epochs` batches. You may need to use the `.repeat()` function when building your dataset.\n",
      "  self.gen.throw(typ, value, traceback)\n"
     ]
    },
    {
     "name": "stdout",
     "output_type": "stream",
     "text": [
      "\u001b[1m391/391\u001b[0m \u001b[32m━━━━━━━━━━━━━━━━━━━━\u001b[0m\u001b[37m\u001b[0m \u001b[1m0s\u001b[0m 1ms/step - accuracy: 0.0000e+00 - loss: 0.0000e+00 - val_accuracy: 0.2830 - val_loss: 3.0577\n",
      "Epoch 3/50\n",
      "\u001b[1m391/391\u001b[0m \u001b[32m━━━━━━━━━━━━━━━━━━━━\u001b[0m\u001b[37m\u001b[0m \u001b[1m11s\u001b[0m 28ms/step - accuracy: 0.9618 - loss: 0.1276 - val_accuracy: 0.9863 - val_loss: 0.0448\n",
      "Epoch 4/50\n",
      "\u001b[1m391/391\u001b[0m \u001b[32m━━━━━━━━━━━━━━━━━━━━\u001b[0m\u001b[37m\u001b[0m \u001b[1m0s\u001b[0m 1ms/step - accuracy: 0.0000e+00 - loss: 0.0000e+00 - val_accuracy: 0.9863 - val_loss: 0.0448\n",
      "Epoch 5/50\n",
      "\u001b[1m391/391\u001b[0m \u001b[32m━━━━━━━━━━━━━━━━━━━━\u001b[0m\u001b[37m\u001b[0m \u001b[1m11s\u001b[0m 28ms/step - accuracy: 0.9729 - loss: 0.0914 - val_accuracy: 0.9820 - val_loss: 0.0605\n",
      "Epoch 6/50\n",
      "\u001b[1m391/391\u001b[0m \u001b[32m━━━━━━━━━━━━━━━━━━━━\u001b[0m\u001b[37m\u001b[0m \u001b[1m0s\u001b[0m 1ms/step - accuracy: 0.0000e+00 - loss: 0.0000e+00 - val_accuracy: 0.9820 - val_loss: 0.0605\n",
      "Epoch 7/50\n",
      "\u001b[1m391/391\u001b[0m \u001b[32m━━━━━━━━━━━━━━━━━━━━\u001b[0m\u001b[37m\u001b[0m \u001b[1m11s\u001b[0m 28ms/step - accuracy: 0.9767 - loss: 0.0791 - val_accuracy: 0.9874 - val_loss: 0.0367\n",
      "Epoch 8/50\n",
      "\u001b[1m391/391\u001b[0m \u001b[32m━━━━━━━━━━━━━━━━━━━━\u001b[0m\u001b[37m\u001b[0m \u001b[1m0s\u001b[0m 1ms/step - accuracy: 0.0000e+00 - loss: 0.0000e+00 - val_accuracy: 0.9874 - val_loss: 0.0367\n",
      "Epoch 9/50\n",
      "\u001b[1m391/391\u001b[0m \u001b[32m━━━━━━━━━━━━━━━━━━━━\u001b[0m\u001b[37m\u001b[0m \u001b[1m11s\u001b[0m 27ms/step - accuracy: 0.9795 - loss: 0.0655 - val_accuracy: 0.9899 - val_loss: 0.0294\n",
      "Epoch 10/50\n",
      "\u001b[1m391/391\u001b[0m \u001b[32m━━━━━━━━━━━━━━━━━━━━\u001b[0m\u001b[37m\u001b[0m \u001b[1m0s\u001b[0m 1ms/step - accuracy: 0.0000e+00 - loss: 0.0000e+00 - val_accuracy: 0.9899 - val_loss: 0.0294\n",
      "Epoch 11/50\n",
      "\u001b[1m391/391\u001b[0m \u001b[32m━━━━━━━━━━━━━━━━━━━━\u001b[0m\u001b[37m\u001b[0m \u001b[1m12s\u001b[0m 29ms/step - accuracy: 0.9801 - loss: 0.0654 - val_accuracy: 0.9890 - val_loss: 0.0319\n",
      "Epoch 12/50\n",
      "\u001b[1m391/391\u001b[0m \u001b[32m━━━━━━━━━━━━━━━━━━━━\u001b[0m\u001b[37m\u001b[0m \u001b[1m0s\u001b[0m 1ms/step - accuracy: 0.0000e+00 - loss: 0.0000e+00 - val_accuracy: 0.9890 - val_loss: 0.0319\n",
      "Epoch 13/50\n",
      "\u001b[1m391/391\u001b[0m \u001b[32m━━━━━━━━━━━━━━━━━━━━\u001b[0m\u001b[37m\u001b[0m \u001b[1m11s\u001b[0m 28ms/step - accuracy: 0.9809 - loss: 0.0624 - val_accuracy: 0.9914 - val_loss: 0.0271\n",
      "Epoch 14/50\n",
      "\u001b[1m391/391\u001b[0m \u001b[32m━━━━━━━━━━━━━━━━━━━━\u001b[0m\u001b[37m\u001b[0m \u001b[1m0s\u001b[0m 1ms/step - accuracy: 0.0000e+00 - loss: 0.0000e+00 - val_accuracy: 0.9914 - val_loss: 0.0271\n",
      "Epoch 15/50\n",
      "\u001b[1m391/391\u001b[0m \u001b[32m━━━━━━━━━━━━━━━━━━━━\u001b[0m\u001b[37m\u001b[0m \u001b[1m11s\u001b[0m 28ms/step - accuracy: 0.9837 - loss: 0.0562 - val_accuracy: 0.9926 - val_loss: 0.0248\n",
      "Epoch 16/50\n",
      "\u001b[1m391/391\u001b[0m \u001b[32m━━━━━━━━━━━━━━━━━━━━\u001b[0m\u001b[37m\u001b[0m \u001b[1m0s\u001b[0m 1ms/step - accuracy: 0.0000e+00 - loss: 0.0000e+00 - val_accuracy: 0.9926 - val_loss: 0.0248\n",
      "Epoch 17/50\n",
      "\u001b[1m391/391\u001b[0m \u001b[32m━━━━━━━━━━━━━━━━━━━━\u001b[0m\u001b[37m\u001b[0m \u001b[1m11s\u001b[0m 29ms/step - accuracy: 0.9853 - loss: 0.0492 - val_accuracy: 0.9908 - val_loss: 0.0266\n",
      "Epoch 18/50\n",
      "\u001b[1m391/391\u001b[0m \u001b[32m━━━━━━━━━━━━━━━━━━━━\u001b[0m\u001b[37m\u001b[0m \u001b[1m0s\u001b[0m 1ms/step - accuracy: 0.0000e+00 - loss: 0.0000e+00 - val_accuracy: 0.9908 - val_loss: 0.0266\n",
      "Epoch 19/50\n",
      "\u001b[1m391/391\u001b[0m \u001b[32m━━━━━━━━━━━━━━━━━━━━\u001b[0m\u001b[37m\u001b[0m \u001b[1m11s\u001b[0m 27ms/step - accuracy: 0.9843 - loss: 0.0501 - val_accuracy: 0.9923 - val_loss: 0.0250\n",
      "Epoch 20/50\n",
      "\u001b[1m391/391\u001b[0m \u001b[32m━━━━━━━━━━━━━━━━━━━━\u001b[0m\u001b[37m\u001b[0m \u001b[1m0s\u001b[0m 1ms/step - accuracy: 0.0000e+00 - loss: 0.0000e+00 - val_accuracy: 0.9923 - val_loss: 0.0250\n"
     ]
    }
   ],
   "source": [
    "checkpoint = ModelCheckpoint('best_model.keras', monitor='val_accuracy', save_best_only=True, mode='max')  # Changed to .keras\n",
    "early_stop = EarlyStopping(monitor='val_accuracy', patience=5, mode='max')\n",
    "# Training parameters\n",
    "batch_size = 86\n",
    "epochs = 50\n",
    "\n",
    "steps_per_epoch = (X_train.shape[0] + batch_size - 1) // batch_size  # 391 steps\n",
    "\n",
    "history = model.fit(\n",
    "    datagen.flow(X_train, y_train, batch_size=batch_size),\n",
    "    epochs=epochs,\n",
    "    validation_data=(X_val, y_val),\n",
    "    steps_per_epoch=steps_per_epoch,  \n",
    "    callbacks=[checkpoint, early_stop]\n",
    ")"
   ]
  },
  {
   "cell_type": "code",
   "execution_count": 5,
   "id": "ede9a792",
   "metadata": {
    "execution": {
     "iopub.execute_input": "2025-02-21T14:01:41.773407Z",
     "iopub.status.busy": "2025-02-21T14:01:41.773066Z",
     "iopub.status.idle": "2025-02-21T14:01:42.103759Z",
     "shell.execute_reply": "2025-02-21T14:01:42.103031Z"
    },
    "papermill": {
     "duration": 0.423254,
     "end_time": "2025-02-21T14:01:42.105375",
     "exception": false,
     "start_time": "2025-02-21T14:01:41.682121",
     "status": "completed"
    },
    "tags": []
   },
   "outputs": [],
   "source": [
    "from tensorflow.keras.models import load_model\n",
    "model = load_model('best_model.keras') "
   ]
  },
  {
   "cell_type": "code",
   "execution_count": 6,
   "id": "3150c2df",
   "metadata": {
    "execution": {
     "iopub.execute_input": "2025-02-21T14:01:42.286540Z",
     "iopub.status.busy": "2025-02-21T14:01:42.286206Z",
     "iopub.status.idle": "2025-02-21T14:01:44.679037Z",
     "shell.execute_reply": "2025-02-21T14:01:44.678310Z"
    },
    "papermill": {
     "duration": 2.484402,
     "end_time": "2025-02-21T14:01:44.680606",
     "exception": false,
     "start_time": "2025-02-21T14:01:42.196204",
     "status": "completed"
    },
    "tags": []
   },
   "outputs": [
    {
     "name": "stdout",
     "output_type": "stream",
     "text": [
      "\u001b[1m875/875\u001b[0m \u001b[32m━━━━━━━━━━━━━━━━━━━━\u001b[0m\u001b[37m\u001b[0m \u001b[1m2s\u001b[0m 1ms/step\n"
     ]
    }
   ],
   "source": [
    "predictions = model.predict(test)\n",
    "predicted_labels = np.argmax(predictions, axis=1)"
   ]
  },
  {
   "cell_type": "code",
   "execution_count": 7,
   "id": "0212d10e",
   "metadata": {
    "execution": {
     "iopub.execute_input": "2025-02-21T14:01:44.915635Z",
     "iopub.status.busy": "2025-02-21T14:01:44.915339Z",
     "iopub.status.idle": "2025-02-21T14:01:44.941637Z",
     "shell.execute_reply": "2025-02-21T14:01:44.940742Z"
    },
    "papermill": {
     "duration": 0.120567,
     "end_time": "2025-02-21T14:01:44.943169",
     "exception": false,
     "start_time": "2025-02-21T14:01:44.822602",
     "status": "completed"
    },
    "tags": []
   },
   "outputs": [],
   "source": [
    "submission = pd.DataFrame({\"ImageId\": np.arange(1, len(predicted_labels) + 1),\n",
    "                           \"Label\": predicted_labels})\n",
    "submission.to_csv(\"submission.csv\", index=False)"
   ]
  }
 ],
 "metadata": {
  "kaggle": {
   "accelerator": "none",
   "dataSources": [
    {
     "databundleVersionId": 861823,
     "sourceId": 3004,
     "sourceType": "competition"
    }
   ],
   "dockerImageVersionId": 30839,
   "isGpuEnabled": false,
   "isInternetEnabled": false,
   "language": "python",
   "sourceType": "notebook"
  },
  "kernelspec": {
   "display_name": "Python 3",
   "language": "python",
   "name": "python3"
  },
  "language_info": {
   "codemirror_mode": {
    "name": "ipython",
    "version": 3
   },
   "file_extension": ".py",
   "mimetype": "text/x-python",
   "name": "python",
   "nbconvert_exporter": "python",
   "pygments_lexer": "ipython3",
   "version": "3.10.12"
  },
  "papermill": {
   "default_parameters": {},
   "duration": 158.817405,
   "end_time": "2025-02-21T14:01:48.025533",
   "environment_variables": {},
   "exception": null,
   "input_path": "__notebook__.ipynb",
   "output_path": "__notebook__.ipynb",
   "parameters": {},
   "start_time": "2025-02-21T13:59:09.208128",
   "version": "2.6.0"
  }
 },
 "nbformat": 4,
 "nbformat_minor": 5
}
