{
 "cells": [
  {
   "cell_type": "code",
   "execution_count": 1,
   "id": "2dbdef7d",
   "metadata": {
    "_cell_guid": "b1076dfc-b9ad-4769-8c92-a6c4dae69d19",
    "_uuid": "8f2839f25d086af736a60e9eeb907d3b93b6e0e5",
    "execution": {
     "iopub.execute_input": "2025-03-23T00:21:11.488875Z",
     "iopub.status.busy": "2025-03-23T00:21:11.488516Z",
     "iopub.status.idle": "2025-03-23T00:21:33.091476Z",
     "shell.execute_reply": "2025-03-23T00:21:33.090500Z"
    },
    "papermill": {
     "duration": 21.608898,
     "end_time": "2025-03-23T00:21:33.093400",
     "exception": false,
     "start_time": "2025-03-23T00:21:11.484502",
     "status": "completed"
    },
    "tags": []
   },
   "outputs": [],
   "source": [
    "import pandas as pd\n",
    "import numpy as np\n",
    "from sklearn.model_selection import train_test_split\n",
    "from tensorflow.keras.utils import to_categorical\n",
    "from tensorflow.keras.models import Sequential\n",
    "from tensorflow.keras.layers import Conv2D, MaxPool2D, GlobalAveragePooling2D, Dropout, Dense, BatchNormalization\n",
    "from tensorflow.keras.optimizers import SGD\n",
    "from tensorflow.keras.regularizers import l2\n",
    "from tensorflow.keras.preprocessing.image import ImageDataGenerator\n",
    "from tensorflow.keras.callbacks import EarlyStopping, ModelCheckpoint, ReduceLROnPlateau\n",
    "from tensorflow.keras.optimizers.schedules import CosineDecay\n",
    "train = pd.read_csv('/kaggle/input/digit-recognizer/train.csv')\n",
    "test = pd.read_csv('/kaggle/input/digit-recognizer/test.csv')\n",
    "\n",
    "y_train = train['label']\n",
    "X_train = train.drop('label', axis=1)\n",
    "\n",
    "X_train = X_train / 255.0\n",
    "test = test / 255.0\n",
    "\n",
    "X_train = X_train.values.reshape(-1, 28, 28, 1)\n",
    "test = test.values.reshape(-1, 28, 28, 1)\n",
    "\n",
    "y_train = to_categorical(y_train, num_classes=10)\n",
    "\n",
    "X_train, X_val, y_train, y_val = train_test_split(X_train, y_train, test_size=0.1, random_state=42)"
   ]
  },
  {
   "cell_type": "code",
   "execution_count": 2,
   "id": "c4395a36",
   "metadata": {
    "execution": {
     "iopub.execute_input": "2025-03-23T00:21:33.099701Z",
     "iopub.status.busy": "2025-03-23T00:21:33.099369Z",
     "iopub.status.idle": "2025-03-23T00:21:33.421228Z",
     "shell.execute_reply": "2025-03-23T00:21:33.420209Z"
    },
    "papermill": {
     "duration": 0.327,
     "end_time": "2025-03-23T00:21:33.423197",
     "exception": false,
     "start_time": "2025-03-23T00:21:33.096197",
     "status": "completed"
    },
    "tags": []
   },
   "outputs": [
    {
     "name": "stderr",
     "output_type": "stream",
     "text": [
      "/usr/local/lib/python3.10/dist-packages/keras/src/layers/convolutional/base_conv.py:107: UserWarning: Do not pass an `input_shape`/`input_dim` argument to a layer. When using Sequential models, prefer using an `Input(shape)` object as the first layer in the model instead.\n",
      "  super().__init__(activity_regularizer=activity_regularizer, **kwargs)\n"
     ]
    }
   ],
   "source": [
    "model = Sequential()\n",
    "\n",
    "model.add(Conv2D(64, (3,3), padding='same', activation='relu', kernel_regularizer=l2(1e-4), input_shape=(28,28,1)))  # <--- Mais filtros\n",
    "model.add(BatchNormalization())\n",
    "model.add(Conv2D(64, (3,3), padding='same', activation='relu', kernel_regularizer=l2(1e-4)))\n",
    "model.add(BatchNormalization())\n",
    "model.add(MaxPool2D(pool_size=(2,2)))\n",
    "model.add(Dropout(0.3))  # <--- Dropout aumentado\n",
    "\n",
    "model.add(Conv2D(128, (3,3), padding='same', activation='relu', kernel_regularizer=l2(1e-4)))  # <--- Nova camada\n",
    "model.add(BatchNormalization())\n",
    "model.add(Conv2D(128, (3,3), padding='same', activation='relu', kernel_regularizer=l2(1e-4)))\n",
    "model.add(BatchNormalization())\n",
    "model.add(MaxPool2D(pool_size=(2,2)))\n",
    "model.add(Dropout(0.3))\n",
    "\n",
    "model.add(Conv2D(256, (3,3), padding='same', activation='relu', kernel_regularizer=l2(1e-4)))  # <--- Nova camada\n",
    "model.add(BatchNormalization())\n",
    "model.add(GlobalAveragePooling2D())  # <--- Substitui Flatten()\n",
    "\n",
    "model.add(Dense(512, activation='relu', kernel_regularizer=l2(1e-4)))\n",
    "model.add(BatchNormalization())\n",
    "model.add(Dropout(0.5))\n",
    "model.add(Dense(10, activation='softmax'))\n",
    "\n",
    "initial_learning_rate = 0.01\n",
    "decay_steps = 1000\n",
    "lr_schedule = CosineDecay(initial_learning_rate, decay_steps)  \n",
    "\n",
    "model.compile(\n",
    "    optimizer=SGD(learning_rate=lr_schedule, momentum=0.9),\n",
    "    loss='categorical_crossentropy',\n",
    "    metrics=['accuracy']\n",
    ")"
   ]
  },
  {
   "cell_type": "code",
   "execution_count": 3,
   "id": "6684bb67",
   "metadata": {
    "execution": {
     "iopub.execute_input": "2025-03-23T00:21:33.429357Z",
     "iopub.status.busy": "2025-03-23T00:21:33.429038Z",
     "iopub.status.idle": "2025-03-23T00:21:33.521181Z",
     "shell.execute_reply": "2025-03-23T00:21:33.520116Z"
    },
    "papermill": {
     "duration": 0.097197,
     "end_time": "2025-03-23T00:21:33.523087",
     "exception": false,
     "start_time": "2025-03-23T00:21:33.425890",
     "status": "completed"
    },
    "tags": []
   },
   "outputs": [],
   "source": [
    "datagen = ImageDataGenerator(\n",
    "    rotation_range=20,         \n",
    "    zoom_range=0.2,             \n",
    "    width_shift_range=0.2,      \n",
    "    height_shift_range=0.2,     \n",
    "    shear_range=0.2,            \n",
    "    fill_mode='nearest',\n",
    "    preprocessing_function=lambda x: x + np.random.normal(0, 0.05, x.shape)  # <--- Novo: ruído gaussiano\n",
    ")\n",
    "datagen.fit(X_train)"
   ]
  },
  {
   "cell_type": "code",
   "execution_count": 4,
   "id": "bdce4597",
   "metadata": {
    "execution": {
     "iopub.execute_input": "2025-03-23T00:21:33.530521Z",
     "iopub.status.busy": "2025-03-23T00:21:33.530201Z",
     "iopub.status.idle": "2025-03-23T01:07:40.320993Z",
     "shell.execute_reply": "2025-03-23T01:07:40.320110Z"
    },
    "papermill": {
     "duration": 2766.795903,
     "end_time": "2025-03-23T01:07:40.322859",
     "exception": false,
     "start_time": "2025-03-23T00:21:33.526956",
     "status": "completed"
    },
    "tags": []
   },
   "outputs": [
    {
     "name": "stdout",
     "output_type": "stream",
     "text": [
      "Epoch 1/100\n"
     ]
    },
    {
     "name": "stderr",
     "output_type": "stream",
     "text": [
      "/usr/local/lib/python3.10/dist-packages/keras/src/trainers/data_adapters/py_dataset_adapter.py:122: UserWarning: Your `PyDataset` class should call `super().__init__(**kwargs)` in its constructor. `**kwargs` can include `workers`, `use_multiprocessing`, `max_queue_size`. Do not pass these arguments to `fit()`, as they will be ignored.\n",
      "  self._warn_if_super_not_called()\n"
     ]
    },
    {
     "name": "stdout",
     "output_type": "stream",
     "text": [
      "\u001b[1m295/295\u001b[0m \u001b[32m━━━━━━━━━━━━━━━━━━━━\u001b[0m\u001b[37m\u001b[0m \u001b[1m268s\u001b[0m 895ms/step - accuracy: 0.6782 - loss: 1.1609 - val_accuracy: 0.1121 - val_loss: 9.1253 - learning_rate: 0.0080\n",
      "Epoch 2/100\n",
      "\u001b[1m  1/295\u001b[0m \u001b[37m━━━━━━━━━━━━━━━━━━━━\u001b[0m \u001b[1m4:04\u001b[0m 833ms/step - accuracy: 0.9375 - loss: 0.4156"
     ]
    },
    {
     "name": "stderr",
     "output_type": "stream",
     "text": [
      "/usr/lib/python3.10/contextlib.py:153: UserWarning: Your input ran out of data; interrupting training. Make sure that your dataset or generator can generate at least `steps_per_epoch * epochs` batches. You may need to use the `.repeat()` function when building your dataset.\n",
      "  self.gen.throw(typ, value, traceback)\n"
     ]
    },
    {
     "name": "stdout",
     "output_type": "stream",
     "text": [
      "\u001b[1m295/295\u001b[0m \u001b[32m━━━━━━━━━━━━━━━━━━━━\u001b[0m\u001b[37m\u001b[0m \u001b[1m8s\u001b[0m 23ms/step - accuracy: 0.9375 - loss: 0.4156 - val_accuracy: 0.1121 - val_loss: 9.0591 - learning_rate: 0.0080\n",
      "Epoch 3/100\n",
      "\u001b[1m295/295\u001b[0m \u001b[32m━━━━━━━━━━━━━━━━━━━━\u001b[0m\u001b[37m\u001b[0m \u001b[1m263s\u001b[0m 890ms/step - accuracy: 0.9474 - loss: 0.2640 - val_accuracy: 0.9555 - val_loss: 0.2283 - learning_rate: 0.0036\n",
      "Epoch 4/100\n",
      "\u001b[1m295/295\u001b[0m \u001b[32m━━━━━━━━━━━━━━━━━━━━\u001b[0m\u001b[37m\u001b[0m \u001b[1m8s\u001b[0m 25ms/step - accuracy: 0.9688 - loss: 0.1858 - val_accuracy: 0.9571 - val_loss: 0.2219 - learning_rate: 0.0035\n",
      "Epoch 5/100\n",
      "\u001b[1m295/295\u001b[0m \u001b[32m━━━━━━━━━━━━━━━━━━━━\u001b[0m\u001b[37m\u001b[0m \u001b[1m263s\u001b[0m 890ms/step - accuracy: 0.9632 - loss: 0.2080 - val_accuracy: 0.9893 - val_loss: 0.1228 - learning_rate: 3.0094e-04\n",
      "Epoch 6/100\n",
      "\u001b[1m295/295\u001b[0m \u001b[32m━━━━━━━━━━━━━━━━━━━━\u001b[0m\u001b[37m\u001b[0m \u001b[1m11s\u001b[0m 35ms/step - accuracy: 0.9766 - loss: 0.2172 - val_accuracy: 0.9893 - val_loss: 0.1227 - learning_rate: 2.9030e-04\n",
      "Epoch 7/100\n",
      "\u001b[1m295/295\u001b[0m \u001b[32m━━━━━━━━━━━━━━━━━━━━\u001b[0m\u001b[37m\u001b[0m \u001b[1m265s\u001b[0m 897ms/step - accuracy: 0.9661 - loss: 0.1935 - val_accuracy: 0.9893 - val_loss: 0.1216 - learning_rate: 0.0000e+00\n",
      "Epoch 8/100\n",
      "\u001b[1m295/295\u001b[0m \u001b[32m━━━━━━━━━━━━━━━━━━━━\u001b[0m\u001b[37m\u001b[0m \u001b[1m8s\u001b[0m 23ms/step - accuracy: 0.9766 - loss: 0.2132 - val_accuracy: 0.9890 - val_loss: 0.1215 - learning_rate: 0.0000e+00\n",
      "Epoch 9/100\n",
      "\u001b[1m295/295\u001b[0m \u001b[32m━━━━━━━━━━━━━━━━━━━━\u001b[0m\u001b[37m\u001b[0m \u001b[1m262s\u001b[0m 888ms/step - accuracy: 0.9675 - loss: 0.1892 - val_accuracy: 0.9888 - val_loss: 0.1212 - learning_rate: 0.0000e+00\n",
      "Epoch 10/100\n",
      "\u001b[1m295/295\u001b[0m \u001b[32m━━━━━━━━━━━━━━━━━━━━\u001b[0m\u001b[37m\u001b[0m \u001b[1m11s\u001b[0m 35ms/step - accuracy: 0.9922 - loss: 0.1222 - val_accuracy: 0.9890 - val_loss: 0.1212 - learning_rate: 0.0000e+00\n",
      "Epoch 11/100\n",
      "\u001b[1m295/295\u001b[0m \u001b[32m━━━━━━━━━━━━━━━━━━━━\u001b[0m\u001b[37m\u001b[0m \u001b[1m260s\u001b[0m 881ms/step - accuracy: 0.9688 - loss: 0.1892 - val_accuracy: 0.9888 - val_loss: 0.1212 - learning_rate: 0.0000e+00\n",
      "Epoch 12/100\n",
      "\u001b[1m295/295\u001b[0m \u001b[32m━━━━━━━━━━━━━━━━━━━━\u001b[0m\u001b[37m\u001b[0m \u001b[1m11s\u001b[0m 35ms/step - accuracy: 0.9453 - loss: 0.2465 - val_accuracy: 0.9888 - val_loss: 0.1212 - learning_rate: 0.0000e+00\n",
      "Epoch 13/100\n",
      "\u001b[1m295/295\u001b[0m \u001b[32m━━━━━━━━━━━━━━━━━━━━\u001b[0m\u001b[37m\u001b[0m \u001b[1m260s\u001b[0m 881ms/step - accuracy: 0.9657 - loss: 0.1892 - val_accuracy: 0.9890 - val_loss: 0.1210 - learning_rate: 0.0000e+00\n",
      "Epoch 14/100\n",
      "\u001b[1m295/295\u001b[0m \u001b[32m━━━━━━━━━━━━━━━━━━━━\u001b[0m\u001b[37m\u001b[0m \u001b[1m8s\u001b[0m 23ms/step - accuracy: 0.9766 - loss: 0.1472 - val_accuracy: 0.9890 - val_loss: 0.1209 - learning_rate: 0.0000e+00\n",
      "Epoch 15/100\n",
      "\u001b[1m295/295\u001b[0m \u001b[32m━━━━━━━━━━━━━━━━━━━━\u001b[0m\u001b[37m\u001b[0m \u001b[1m262s\u001b[0m 887ms/step - accuracy: 0.9665 - loss: 0.1981 - val_accuracy: 0.9888 - val_loss: 0.1211 - learning_rate: 0.0000e+00\n",
      "Epoch 16/100\n",
      "\u001b[1m295/295\u001b[0m \u001b[32m━━━━━━━━━━━━━━━━━━━━\u001b[0m\u001b[37m\u001b[0m \u001b[1m8s\u001b[0m 25ms/step - accuracy: 0.9375 - loss: 0.2444 - val_accuracy: 0.9888 - val_loss: 0.1212 - learning_rate: 0.0000e+00\n",
      "Epoch 17/100\n",
      "\u001b[1m295/295\u001b[0m \u001b[32m━━━━━━━━━━━━━━━━━━━━\u001b[0m\u001b[37m\u001b[0m \u001b[1m263s\u001b[0m 890ms/step - accuracy: 0.9669 - loss: 0.1886 - val_accuracy: 0.9890 - val_loss: 0.1212 - learning_rate: 0.0000e+00\n",
      "Epoch 18/100\n",
      "\u001b[1m295/295\u001b[0m \u001b[32m━━━━━━━━━━━━━━━━━━━━\u001b[0m\u001b[37m\u001b[0m \u001b[1m8s\u001b[0m 23ms/step - accuracy: 0.9531 - loss: 0.2440 - val_accuracy: 0.9890 - val_loss: 0.1211 - learning_rate: 0.0000e+00\n",
      "Epoch 19/100\n",
      "\u001b[1m295/295\u001b[0m \u001b[32m━━━━━━━━━━━━━━━━━━━━\u001b[0m\u001b[37m\u001b[0m \u001b[1m312s\u001b[0m 882ms/step - accuracy: 0.9657 - loss: 0.1945 - val_accuracy: 0.9888 - val_loss: 0.1215 - learning_rate: 0.0000e+00\n",
      "Epoch 20/100\n",
      "\u001b[1m295/295\u001b[0m \u001b[32m━━━━━━━━━━━━━━━━━━━━\u001b[0m\u001b[37m\u001b[0m \u001b[1m8s\u001b[0m 23ms/step - accuracy: 0.9688 - loss: 0.2248 - val_accuracy: 0.9888 - val_loss: 0.1215 - learning_rate: 0.0000e+00\n"
     ]
    }
   ],
   "source": [
    "checkpoint = ModelCheckpoint('best_model.keras', monitor='val_accuracy', save_best_only=True, mode='max')\n",
    "early_stop = EarlyStopping(monitor='val_accuracy', patience=15, mode='max', restore_best_weights=True)  # <--- Paciência aumentada\n",
    "reduce_lr = ReduceLROnPlateau(monitor='val_accuracy', factor=0.5, patience=5, min_lr=1e-6)\n",
    "\n",
    "callbacks = [checkpoint, early_stop, reduce_lr]\n",
    "\n",
    "batch_size = 128  \n",
    "epochs = 100      \n",
    "\n",
    "history = model.fit(\n",
    "    datagen.flow(X_train, y_train, batch_size=batch_size, shuffle=True),\n",
    "    steps_per_epoch=len(X_train) // batch_size,\n",
    "    epochs=epochs,\n",
    "    validation_data=(X_val, y_val),\n",
    "    callbacks=callbacks\n",
    ")"
   ]
  },
  {
   "cell_type": "code",
   "execution_count": 5,
   "id": "01b48048",
   "metadata": {
    "execution": {
     "iopub.execute_input": "2025-03-23T01:07:40.670580Z",
     "iopub.status.busy": "2025-03-23T01:07:40.670245Z",
     "iopub.status.idle": "2025-03-23T01:07:41.042460Z",
     "shell.execute_reply": "2025-03-23T01:07:41.041361Z"
    },
    "papermill": {
     "duration": 0.547367,
     "end_time": "2025-03-23T01:07:41.044303",
     "exception": false,
     "start_time": "2025-03-23T01:07:40.496936",
     "status": "completed"
    },
    "tags": []
   },
   "outputs": [],
   "source": [
    "from tensorflow.keras.models import load_model\n",
    "model = load_model('best_model.keras') "
   ]
  },
  {
   "cell_type": "code",
   "execution_count": 6,
   "id": "a0703ff1",
   "metadata": {
    "execution": {
     "iopub.execute_input": "2025-03-23T01:07:41.388991Z",
     "iopub.status.busy": "2025-03-23T01:07:41.388644Z",
     "iopub.status.idle": "2025-03-23T01:21:19.907472Z",
     "shell.execute_reply": "2025-03-23T01:21:19.906585Z"
    },
    "papermill": {
     "duration": 818.693427,
     "end_time": "2025-03-23T01:21:19.909667",
     "exception": false,
     "start_time": "2025-03-23T01:07:41.216240",
     "status": "completed"
    },
    "tags": []
   },
   "outputs": [],
   "source": [
    "tta_steps = 15\n",
    "predictions = []\n",
    "\n",
    "datagen_test = ImageDataGenerator(\n",
    "    rotation_range=15,  \n",
    "    width_shift_range=0.15,\n",
    "    height_shift_range=0.15,\n",
    "    zoom_range=0.15,\n",
    "    shear_range=0.15,\n",
    "    fill_mode='nearest'\n",
    ")\n",
    "\n",
    "for _ in range(tta_steps):\n",
    "    for batch in datagen_test.flow(test, batch_size=len(test), shuffle=False):\n",
    "        pred = model.predict(batch, verbose=0)\n",
    "        predictions.append(pred)\n",
    "        break  \n",
    "\n",
    "final_pred = np.mean(predictions, axis=0)\n",
    "predicted_labels = np.argmax(final_pred, axis=1)"
   ]
  },
  {
   "cell_type": "code",
   "execution_count": 7,
   "id": "7f003a7a",
   "metadata": {
    "execution": {
     "iopub.execute_input": "2025-03-23T01:21:20.258407Z",
     "iopub.status.busy": "2025-03-23T01:21:20.258054Z",
     "iopub.status.idle": "2025-03-23T01:21:20.302301Z",
     "shell.execute_reply": "2025-03-23T01:21:20.300969Z"
    },
    "papermill": {
     "duration": 0.218692,
     "end_time": "2025-03-23T01:21:20.303978",
     "exception": false,
     "start_time": "2025-03-23T01:21:20.085286",
     "status": "completed"
    },
    "tags": []
   },
   "outputs": [],
   "source": [
    "submission = pd.DataFrame({\"ImageId\": np.arange(1, len(predicted_labels) + 1),\n",
    "                           \"Label\": predicted_labels})\n",
    "submission.to_csv(\"submission.csv\", index=False)"
   ]
  }
 ],
 "metadata": {
  "kaggle": {
   "accelerator": "none",
   "dataSources": [
    {
     "databundleVersionId": 861823,
     "sourceId": 3004,
     "sourceType": "competition"
    }
   ],
   "dockerImageVersionId": 30839,
   "isGpuEnabled": false,
   "isInternetEnabled": false,
   "language": "python",
   "sourceType": "notebook"
  },
  "kernelspec": {
   "display_name": "Python 3",
   "language": "python",
   "name": "python3"
  },
  "language_info": {
   "codemirror_mode": {
    "name": "ipython",
    "version": 3
   },
   "file_extension": ".py",
   "mimetype": "text/x-python",
   "name": "python",
   "nbconvert_exporter": "python",
   "pygments_lexer": "ipython3",
   "version": "3.10.12"
  },
  "papermill": {
   "default_parameters": {},
   "duration": 3613.638011,
   "end_time": "2025-03-23T01:21:22.407775",
   "environment_variables": {},
   "exception": null,
   "input_path": "__notebook__.ipynb",
   "output_path": "__notebook__.ipynb",
   "parameters": {},
   "start_time": "2025-03-23T00:21:08.769764",
   "version": "2.6.0"
  }
 },
 "nbformat": 4,
 "nbformat_minor": 5
}
